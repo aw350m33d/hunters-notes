{
 "cells": [
  {
   "cell_type": "code",
   "execution_count": null,
   "id": "3e3e5620-184f-4c26-baa3-fc27a2e33df4",
   "metadata": {},
   "outputs": [],
   "source": [
    "%pip install langchain llama-cpp-python langchain_openai"
   ]
  },
  {
   "cell_type": "code",
   "execution_count": null,
   "id": "ba81c572-d49c-402d-bb19-a8bbe31185fe",
   "metadata": {},
   "outputs": [],
   "source": [
    "event = \"\"\"\n",
    "{\n",
    "    \"Channel\": \"Security\",\n",
    "    \"EventReceivedTime\": \"2020-09-16 23:40:05\",\n",
    "    \"SourceName\": \"Microsoft-Windows-Security-Auditing\",\n",
    "    \"EventType\": \"AUDIT_SUCCESS\",\n",
    "    \"@version\": \"1\",\n",
    "    \"EventTime\": \"2020-09-16 23:40:04\",\n",
    "    \"TargetUserSid\": \"S-1-0-0\",\n",
    "    \"port\": 58056,\n",
    "    \"Task\": 13312,\n",
    "    \"NewProcessId\": \"0x1b70\",\n",
    "    \"Version\": 2,\n",
    "    \"RecordNumber\": 100596,\n",
    "    \"TargetLogonId\": \"0x0\",\n",
    "    \"ThreadID\": 1524,\n",
    "    \"EventID\": 4688,\n",
    "    \"TokenElevationType\": \"%%1938\",\n",
    "    \"host\": \"wec.internal.cloudapp.net\",\n",
    "    \"Hostname\": \"WORKSTATION5.theshire.local\",\n",
    "    \"SubjectUserName\": \"pgustavo\",\n",
    "    \"SubjectDomainName\": \"THESHIRE\",\n",
    "    \"Severity\": \"INFO\",\n",
    "    \"Category\": \"Process Creation\",\n",
    "    \"MandatoryLabel\": \"S-1-16-8192\",\n",
    "    \"@timestamp\": \"2020-09-17T03:40:05.823Z\",\n",
    "    \"Keywords\": -9214364837600034816,\n",
    "    \"ExecutionProcessID\": 4,\n",
    "    \"OpcodeValue\": 0,\n",
    "    \"Opcode\": \"Info\",\n",
    "    \"SourceModuleName\": \"eventlog\",\n",
    "    \"ProcessId\": \"0x1c50\",\n",
    "    \"TargetDomainName\": \"-\",\n",
    "    \"SubjectUserSid\": \"S-1-5-21-265287011-2876628551-1792472658-1104\",\n",
    "    \"CommandLine\": \"\\\"cmd.exe\\\" /c C:\\\\Users\\\\pgustavo\\\\Downloads\\\\mimikatz_trunk\\\\x64\\\\mimikatz.exe \\\"lsadump::zerologon /target:MORDORDC.theshire.local /account:MORDORDC$ /exploit\\\" exit\",\n",
    "    \"NewProcessName\": \"C:\\\\Windows\\\\System32\\\\cmd.exe\",\n",
    "    \"ParentProcessName\": \"C:\\\\Users\\\\pgustavo\\\\Desktop\\\\GruntHTTP.exe\",\n",
    "    \"SourceModuleType\": \"im_msvistalog\",\n",
    "    \"SubjectLogonId\": \"0x29d9ba\",\n",
    "    \"TargetUserName\": \"-\",\n",
    "    \"SeverityValue\": 2\n",
    "}\n",
    "\"\"\""
   ]
  },
  {
   "cell_type": "code",
   "execution_count": null,
   "id": "264a32b2-bef5-4223-bc16-8d9c8b095b5a",
   "metadata": {},
   "outputs": [],
   "source": [
    "from langchain.chains import LLMChain\n",
    "from langchain.prompts import PromptTemplate\n",
    "from langchain_openai import OpenAI"
   ]
  },
  {
   "cell_type": "code",
   "execution_count": null,
   "id": "87ef38ff-3565-42b5-a8fc-520caa24fd46",
   "metadata": {},
   "outputs": [],
   "source": [
    "# Point to the local server\n",
    "llm = OpenAI(base_url=\"http://localhost:3503/v1\", api_key=\"not-needed\", max_tokens=-1)"
   ]
  },
  {
   "cell_type": "code",
   "execution_count": null,
   "id": "58addd3b-b58c-4795-8f2e-8e2dadf3eef0",
   "metadata": {},
   "outputs": [],
   "source": [
    "template = \"\"\"Question: {question}\n",
    "\n",
    "Answer: Let's think step by step.\"\"\"\n",
    "\n",
    "prompt = PromptTemplate(template=template, input_variables=[\"question\"])"
   ]
  },
  {
   "cell_type": "code",
   "execution_count": null,
   "id": "88c4bd72-c478-4fa8-94bf-89afe7814158",
   "metadata": {},
   "outputs": [],
   "source": [
    "llm_chain = LLMChain(prompt=prompt, llm=llm)"
   ]
  },
  {
   "cell_type": "code",
   "execution_count": null,
   "id": "bf2de13c-d2e8-49a0-adbc-f7bbd48f19b5",
   "metadata": {},
   "outputs": [],
   "source": [
    "question = f\"Do you see somethisn suspicious in the next event: {event}\"\n",
    "\n",
    "result = llm_chain.invoke(question)"
   ]
  },
  {
   "cell_type": "code",
   "execution_count": null,
   "id": "c0a04640-88a5-48e7-8c5c-f5df9b098718",
   "metadata": {},
   "outputs": [],
   "source": [
    "print(result['text'])"
   ]
  }
 ],
 "metadata": {
  "kernelspec": {
   "display_name": "Python 3 (ipykernel)",
   "language": "python",
   "name": "python3"
  },
  "language_info": {
   "codemirror_mode": {
    "name": "ipython",
    "version": 3
   },
   "file_extension": ".py",
   "mimetype": "text/x-python",
   "name": "python",
   "nbconvert_exporter": "python",
   "pygments_lexer": "ipython3",
   "version": "3.11.7"
  }
 },
 "nbformat": 4,
 "nbformat_minor": 5
}
