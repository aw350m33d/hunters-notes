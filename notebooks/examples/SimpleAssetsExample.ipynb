{
 "cells": [
  {
   "cell_type": "code",
   "execution_count": null,
   "metadata": {},
   "outputs": [],
   "source": [
    "import os\n",
    "import dotenv\n",
    "from msticpy.data.data_providers import QueryProvider"
   ]
  },
  {
   "cell_type": "code",
   "execution_count": null,
   "metadata": {},
   "outputs": [],
   "source": [
    "assets_api = QueryProvider(\"MPSIEMAssets\", debug=True)"
   ]
  },
  {
   "cell_type": "code",
   "execution_count": null,
   "metadata": {},
   "outputs": [],
   "source": [
    "dotenv.load_dotenv('../.env', override=True)\n",
    "SIEM_HOST = os.getenv(\"SIEM_HOST\")\n",
    "SIEM_USERNAME = os.getenv(\"SIEM_USERNAME\")\n",
    "SIEM_PASSWORD = os.getenv(\"SIEM_PASSWORD\")\n",
    "assets_api.connect(f\"host={SIEM_HOST};username={SIEM_USERNAME};password={SIEM_PASSWORD}\")"
   ]
  },
  {
   "cell_type": "code",
   "execution_count": null,
   "metadata": {},
   "outputs": [],
   "source": [
    "query=\"Host.HostRoles.Role = 'DHCP Server' and Host.OsName = 'Windows 2019'\"\n",
    "assets = assets_api.exec_query(query=query)"
   ]
  },
  {
   "cell_type": "code",
   "execution_count": null,
   "metadata": {},
   "outputs": [],
   "source": [
    "print(assets)"
   ]
  }
 ],
 "metadata": {
  "kernelspec": {
   "display_name": "hunters-notes",
   "language": "python",
   "name": "python3"
  },
  "language_info": {
   "codemirror_mode": {
    "name": "ipython",
    "version": 3
   },
   "file_extension": ".py",
   "mimetype": "text/x-python",
   "name": "python",
   "nbconvert_exporter": "python",
   "pygments_lexer": "ipython3",
   "version": "3.11.7"
  }
 },
 "nbformat": 4,
 "nbformat_minor": 2
}
