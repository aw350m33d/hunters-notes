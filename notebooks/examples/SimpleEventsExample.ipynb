{
 "cells": [
  {
   "cell_type": "markdown",
   "metadata": {},
   "source": [
    "# Загружаем необходимые библиотеки"
   ]
  },
  {
   "cell_type": "code",
   "execution_count": null,
   "id": "0abaddd3",
   "metadata": {},
   "outputs": [],
   "source": [
    "# Загрузим необходимые библиотеки\n",
    "import ipywidgets as widgets\n",
    "from msticpy.vis.timeline import display_timeline\n",
    "from msticpy.nbtools import nbwidgets\n",
    "from msticpy.data.data_providers import QueryProvider\n",
    "\n",
    "import os\n",
    "import dotenv\n",
    "import pandas as pd"
   ]
  },
  {
   "cell_type": "markdown",
   "metadata": {},
   "source": [
    "## Выбираем провайдер для запроса событий из MP SIEM"
   ]
  },
  {
   "cell_type": "code",
   "execution_count": null,
   "id": "a2b8daed",
   "metadata": {},
   "outputs": [],
   "source": [
    "events_api = QueryProvider(\"MPSIEMEvents\", debug=True)"
   ]
  },
  {
   "cell_type": "code",
   "execution_count": null,
   "id": "88cb527c-654e-488f-be18-8ec618b468ca",
   "metadata": {},
   "outputs": [],
   "source": [
    "# функция обработки для MSTICPy\n",
    "def dataframe_process(df):\n",
    "    events = df.astype(str)\n",
    "    events['TimeCreated'] = pd.to_datetime(events['time'])\n",
    "    events['Computer'] = events['event_src.host']\n",
    "    events = events[events['msgid'].apply(lambda x: str(x).isdigit())]\n",
    "    events['EventID'] = events['msgid'].apply(lambda x: int(x))\n",
    "    events['TimeGenerated'] = pd.to_datetime(events['time'])\n",
    "    events['NewProcessName'] = events['object.name']\n",
    "    events['NewProcessId'] = events['object.id']\n",
    "    events['ParentProcessName'] = events['datafield4']\n",
    "    events['ProcessId'] = events['datafield2']\n",
    "    events['SubjectLogonId'] = events['datafield1']\n",
    "    events['TargetLogonId'] = events['datafield7']\n",
    "    events['CommandLine'] = events['datafield5']\n",
    "    events['cmd'] = events['datafield5']\n",
    "    events['ParentCommandLine'] = events['datafield9']\n",
    "    events['SubjectUserName'] = events['subject.name']\n",
    "    events['SubjectUserSid'] = events['subject.id'] \n",
    "    events['TenantId'] = \"\"\n",
    "    return events"
   ]
  },
  {
   "cell_type": "markdown",
   "metadata": {},
   "source": [
    "## Подключаемся к серверу и проходим аутентификацию"
   ]
  },
  {
   "cell_type": "code",
   "execution_count": null,
   "id": "6b6a05c8",
   "metadata": {},
   "outputs": [],
   "source": [
    "dotenv.load_dotenv('../.env', override=True)\n",
    "SIEM_HOST = os.getenv(\"SIEM_HOST\")\n",
    "SIEM_USERNAME = os.getenv(\"SIEM_USERNAME\")\n",
    "SIEM_PASSWORD = os.getenv(\"SIEM_PASSWORD\")\n",
    "events_api.connect(f\"host={SIEM_HOST};username={SIEM_USERNAME};password={SIEM_PASSWORD}\")"
   ]
  },
  {
   "cell_type": "markdown",
   "metadata": {},
   "source": [
    "## Отрисовываем виджет выбора интервала времени"
   ]
  },
  {
   "cell_type": "code",
   "execution_count": null,
   "id": "1626215d-8fe6-4ed4-a21e-785a7c44f7e2",
   "metadata": {},
   "outputs": [],
   "source": [
    "q_times = nbwidgets.QueryTime(units='days', max_before=30, before=3, max_after=0)\n",
    "q_times.display()"
   ]
  },
  {
   "cell_type": "markdown",
   "metadata": {},
   "source": [
    "## Получаем события по фильтру для выбранного диапазона времени"
   ]
  },
  {
   "cell_type": "code",
   "execution_count": null,
   "id": "75ea33d4-5aa8-4af3-9157-73ae196778ae",
   "metadata": {},
   "outputs": [],
   "source": [
    "wmi_process_events = events_api.exec_query(query=\"msgid=1 and body contains 'wmiprvse'\", time_start=q_times.start,time_end=q_times.end)"
   ]
  },
  {
   "cell_type": "code",
   "execution_count": null,
   "id": "08615818-4fae-4a02-bc15-3db97a2808b7",
   "metadata": {},
   "outputs": [],
   "source": [
    "wmi_process_events = dataframe_process(wmi_process_events)"
   ]
  },
  {
   "cell_type": "markdown",
   "metadata": {},
   "source": [
    "## Рисуем таймлайн возникновения событий"
   ]
  },
  {
   "cell_type": "code",
   "execution_count": null,
   "id": "48671d93-c280-4bdd-a01e-2d00db3c3cf4",
   "metadata": {},
   "outputs": [],
   "source": [
    "WIDGET_DEFAULTS = {'layout': widgets.Layout(width='95%'),\n",
    "                   'style': {'description_width': 'initial'}}\n",
    "\n",
    "display_timeline(wmi_process_events,\n",
    "               group_by=\"EventID\",\n",
    "               source_columns=['Computer','ParentCommandLine','CommandLine'],\n",
    "               legend=\"inline\")"
   ]
  },
  {
   "cell_type": "markdown",
   "metadata": {},
   "source": [
    "## Запрашиваем дочерние процессы"
   ]
  },
  {
   "cell_type": "code",
   "execution_count": null,
   "id": "b45ef3e2-4b19-4067-8620-2067343555e4",
   "metadata": {},
   "outputs": [],
   "source": [
    "spawn_events = events_api.exec_query(query=\"(msgid = 4688 or msgid = 1) and (object.process.parent.name = 'wmiprvse.exe')\", time_start=q_times.start,time_end=q_times.end)"
   ]
  },
  {
   "cell_type": "code",
   "execution_count": null,
   "id": "992e41e3-208d-4cd7-878e-ad564eabba96",
   "metadata": {},
   "outputs": [],
   "source": [
    "spawn_events = dataframe_process(spawn_events)"
   ]
  },
  {
   "cell_type": "markdown",
   "metadata": {},
   "source": [
    "## Строим дерево процессов"
   ]
  },
  {
   "cell_type": "code",
   "execution_count": null,
   "id": "00c5c128-0bba-4d0e-a93c-d8c97685b9fb",
   "metadata": {},
   "outputs": [],
   "source": [
    "full_tree = spawn_events[[\"Computer\", \"SubjectLogonId\", \"NewProcessId\", \"NewProcessName\", \"ProcessId\", \"ParentProcessName\", \"TimeCreated\", \"EventID\",\"TimeGenerated\",'TargetLogonId','CommandLine','SubjectUserName']].mp_plot.process_tree()"
   ]
  },
  {
   "cell_type": "markdown",
   "metadata": {},
   "source": [
    "## Строим граф"
   ]
  },
  {
   "cell_type": "code",
   "execution_count": null,
   "id": "c1192eff-ba68-4f54-9e81-13c138d299c0",
   "metadata": {},
   "outputs": [],
   "source": [
    "spawn_events.mp_plot.network(\n",
    "    source_col=\"SubjectUserName\",\n",
    "    target_col='ProcessId',\n",
    "    source_attrs=[ \"SubjectLogonId\"],\n",
    "    target_attrs=[\"NewProcessName\", \"ParentProcessName\", \"CommandLine\"],\n",
    "    edge_attrs=[\"TimeGenerated\"],\n",
    ")"
   ]
  },
  {
   "cell_type": "code",
   "execution_count": null,
   "id": "83752798-af70-48e0-bcef-39868e0b73fc",
   "metadata": {},
   "outputs": [],
   "source": []
  }
 ],
 "metadata": {
  "kernelspec": {
   "display_name": "Python 3 (ipykernel)",
   "language": "python",
   "name": "python3"
  },
  "language_info": {
   "codemirror_mode": {
    "name": "ipython",
    "version": 3
   },
   "file_extension": ".py",
   "mimetype": "text/x-python",
   "name": "python",
   "nbconvert_exporter": "python",
   "pygments_lexer": "ipython3",
   "version": "3.11.7"
  }
 },
 "nbformat": 4,
 "nbformat_minor": 5
}
