{
 "cells": [
  {
   "cell_type": "code",
   "execution_count": null,
   "metadata": {},
   "outputs": [],
   "source": [
    "import os\n",
    "from msticpy.data.data_providers import QueryProvider\n",
    "from msticpy.nbtools import nbwidgets\n",
    "from msticpy.data.drivers.mpsiem_events_driver import get_mpsiem_timestamp"
   ]
  },
  {
   "cell_type": "code",
   "execution_count": null,
   "metadata": {},
   "outputs": [],
   "source": [
    "incidents_api = QueryProvider(\"MPSIEMIncidents\", debug=True)"
   ]
  },
  {
   "cell_type": "code",
   "execution_count": null,
   "metadata": {},
   "outputs": [],
   "source": [
    "SIEM_HOST = \"\"\n",
    "USERNAME = os.environ(\"SIEM_USERNAME\")\n",
    "PASSWORD = os.environ(\"SIEM_PASSWORD\")\n",
    "incidents_api.connect(f\"host={SIEM_HOST};username={USERNAME};password={PASSWORD}\")"
   ]
  },
  {
   "cell_type": "code",
   "execution_count": null,
   "metadata": {},
   "outputs": [],
   "source": [
    "q_times = nbwidgets.QueryTime(units='days', max_before=30, before=3, max_after=0)\n",
    "q_times.display()"
   ]
  },
  {
   "cell_type": "code",
   "execution_count": null,
   "metadata": {},
   "outputs": [],
   "source": [
    "incidents = incidents_api.exec_query(query=\"\", time_start=get_mpsiem_timestamp(q_times.start), time_end=get_mpsiem_timestamp(q_times.end))"
   ]
  },
  {
   "cell_type": "code",
   "execution_count": null,
   "metadata": {},
   "outputs": [],
   "source": [
    "print(incidents)"
   ]
  }
 ],
 "metadata": {
  "kernelspec": {
   "display_name": "hunters-notes",
   "language": "python",
   "name": "python3"
  },
  "language_info": {
   "codemirror_mode": {
    "name": "ipython",
    "version": 3
   },
   "file_extension": ".py",
   "mimetype": "text/x-python",
   "name": "python",
   "nbconvert_exporter": "python",
   "pygments_lexer": "ipython3",
   "version": "3.11.7"
  }
 },
 "nbformat": 4,
 "nbformat_minor": 2
}
